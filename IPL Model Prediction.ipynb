{
 "cells": [
  {
   "cell_type": "code",
   "execution_count": 1,
   "metadata": {
    "gradient": {
     "editing": false
    }
   },
   "outputs": [],
   "source": [
    "import pickle\n",
    "import json\n",
    "import numpy as np"
   ]
  },
  {
   "cell_type": "code",
   "execution_count": 2,
   "metadata": {
    "gradient": {
     "editing": false
    }
   },
   "outputs": [],
   "source": [
    "scaler = None\n",
    "model = None\n",
    "encoded_teams = None\n",
    "columns = None\n",
    "\n",
    "with open(\"artifacts/model.pickle\", \"rb\") as f:\n",
    "    model = pickle.load(f)\n",
    "    \n",
    "with open(\"artifacts/scaler.pickle\", \"rb\") as f:\n",
    "    scaler = pickle.load(f)\n",
    "\n",
    "with open(\"artifacts/encodedteams.json\", \"r\") as f:\n",
    "    encoded_teams = json.load(f)\n",
    "\n",
    "with open(\"artifacts/columns.json\", \"r\") as f:\n",
    "    columns = np.array(json.load(f)[\"columns\"])"
   ]
  },
  {
   "cell_type": "code",
   "execution_count": 3,
   "metadata": {
    "gradient": {
     "editing": false
    }
   },
   "outputs": [],
   "source": [
    "def prediction(over, wickets, runs, last_5_over_wickets, last_5_over_runs, batting_team, bowling_team, venue):\n",
    "    X_pred = np.zeros(columns.size)\n",
    "    \n",
    "    X_pred[0] = over\n",
    "    X_pred[1] = wickets\n",
    "    X_pred[2] = runs\n",
    "    X_pred[3] = last_5_over_wickets\n",
    "    X_pred[4] = last_5_over_runs\n",
    "    X_pred[5] = encoded_teams[batting_team]\n",
    "    X_pred[6] = encoded_teams[bowling_team]\n",
    "    \n",
    "    if venue != \"Barabati Stadium\":\n",
    "        venue_pos = np.where(venue == columns)[0][0]\n",
    "        X_pred[venue_pos] = 1\n",
    "    \n",
    "    X_pred = scaler.transform([X_pred])\n",
    "    \n",
    "    prediction = model.predict(X_pred)\n",
    "    return prediction"
   ]
  },
  {
   "cell_type": "code",
   "execution_count": 4,
   "metadata": {
    "gradient": {
     "editing": false
    }
   },
   "outputs": [
    {
     "data": {
      "text/plain": [
       "array([151.21129907])"
      ]
     },
     "execution_count": 4,
     "metadata": {},
     "output_type": "execute_result"
    }
   ],
   "source": [
    "prediction(7, 0, 52, 0, 24, \"Sunrisers Hyderabad\", \"Delhi Capitals\", \"Sheikh Zayed Stadium\")"
   ]
  }
 ],
 "metadata": {
  "kernelspec": {
   "display_name": "Python 3",
   "language": "python",
   "name": "python3"
  },
  "language_info": {
   "codemirror_mode": {
    "name": "ipython",
    "version": 3
   },
   "file_extension": ".py",
   "mimetype": "text/x-python",
   "name": "python",
   "nbconvert_exporter": "python",
   "pygments_lexer": "ipython3",
   "version": "3.8.5"
  }
 },
 "nbformat": 4,
 "nbformat_minor": 5
}
